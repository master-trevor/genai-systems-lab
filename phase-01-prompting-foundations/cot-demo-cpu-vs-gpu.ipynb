{
 "cells": [
  {
   "cell_type": "code",
   "execution_count": 1,
   "id": "0f32841f-d3e7-4cb5-88c4-74565bdbcf96",
   "metadata": {},
   "outputs": [
    {
     "name": "stdout",
     "output_type": "stream",
     "text": [
      "2.8.0.dev20250503+cu128\n",
      "True\n",
      "NVIDIA GeForce RTX 5080 Laptop GPU\n"
     ]
    }
   ],
   "source": [
    "import torch\n",
    "print(torch.__version__)  # should say +cu128\n",
    "print(torch.cuda.is_available())  # should be True\n",
    "print(torch.cuda.get_device_name(0))  # should say RTX 5080"
   ]
  },
  {
   "cell_type": "markdown",
   "id": "8b41aa72",
   "metadata": {},
   "source": [
    "# ⚡ Chain of Thought (CoT) — CPU vs GPU Speed Test\n",
    "\n",
    "This notebook compares model inference time using CPU and GPU for the same CoT-style prompt using `flan-t5-small`.\n",
    "\n",
    "Make sure you have a CUDA-compatible GPU and PyTorch with GPU support installed."
   ]
  },
  {
   "cell_type": "code",
   "execution_count": 2,
   "id": "3d0ff3ad",
   "metadata": {},
   "outputs": [
    {
     "name": "stdout",
     "output_type": "stream",
     "text": [
      "CUDA Available: True\n",
      "Using device: GPU\n"
     ]
    },
    {
     "name": "stderr",
     "output_type": "stream",
     "text": [
      "Device set to use cuda:0\n"
     ]
    }
   ],
   "source": [
    "from transformers import pipeline\n",
    "import torch\n",
    "import time\n",
    "\n",
    "# Check device\n",
    "device = 0 if torch.cuda.is_available() else -1\n",
    "print(f\"CUDA Available: {torch.cuda.is_available()}\")\n",
    "print(f\"Using device: {'GPU' if device == 0 else 'CPU'}\")\n",
    "\n",
    "# Load model\n",
    "generator = pipeline(\"text2text-generation\", model=\"google/flan-t5-small\", device=device)\n"
   ]
  },
  {
   "cell_type": "markdown",
   "id": "1b3e541f",
   "metadata": {},
   "source": [
    "## 🧪 CoT Prompt Test\n",
    "We'll test inference time with the same prompt on both CPU and GPU."
   ]
  },
  {
   "cell_type": "code",
   "execution_count": 3,
   "id": "23c88a18",
   "metadata": {},
   "outputs": [],
   "source": [
    "prompt_cot = \"\"\"If you have 5 cars and each car has 4 wheels, how many wheels total?\n",
    "\n",
    "Let's think step by step.\"\"\"\n"
   ]
  },
  {
   "cell_type": "code",
   "execution_count": 6,
   "id": "a461da0f-c5f1-43bd-8da7-2dabd256b007",
   "metadata": {},
   "outputs": [],
   "source": [
    "prompt_cot = \"\"\"Explain in detail how the French Revolution influenced modern democratic systems. Let's think step by step.\"\"\"\n"
   ]
  },
  {
   "cell_type": "code",
   "execution_count": 7,
   "id": "f5f3ac60",
   "metadata": {},
   "outputs": [
    {
     "name": "stderr",
     "output_type": "stream",
     "text": [
      "Device set to use cpu\n"
     ]
    },
    {
     "name": "stdout",
     "output_type": "stream",
     "text": [
      "🧠 CPU Output:\n",
      "The French Revolution influenced modern democratic systems. The French Revolution influenced modern democratic systems. The answer: yes.\n",
      "⏱ CPU Inference Time: 0.52 seconds\n"
     ]
    }
   ],
   "source": [
    "# Run on CPU\n",
    "generator_cpu = pipeline(\"text2text-generation\", model=\"google/flan-t5-small\", device=-1)\n",
    "\n",
    "start_cpu = time.time()\n",
    "output_cpu = generator_cpu(prompt_cot, max_new_tokens=300)[0][\"generated_text\"]\n",
    "end_cpu = time.time()\n",
    "\n",
    "print(\"🧠 CPU Output:\")\n",
    "print(output_cpu)\n",
    "print(f\"⏱ CPU Inference Time: {end_cpu - start_cpu:.2f} seconds\")\n"
   ]
  },
  {
   "cell_type": "code",
   "execution_count": 8,
   "id": "1486c7ea",
   "metadata": {},
   "outputs": [
    {
     "name": "stderr",
     "output_type": "stream",
     "text": [
      "Device set to use cuda:0\n"
     ]
    },
    {
     "name": "stdout",
     "output_type": "stream",
     "text": [
      "🚀 GPU Output:\n",
      "The French Revolution influenced modern democratic systems. The French Revolution influenced modern democratic systems. The answer: yes.\n",
      "⏱ GPU Inference Time: 0.33 seconds\n"
     ]
    }
   ],
   "source": [
    "# Run on GPU (if available)\n",
    "if torch.cuda.is_available():\n",
    "    generator_gpu = pipeline(\"text2text-generation\", model=\"google/flan-t5-small\", device=0)\n",
    "\n",
    "    start_gpu = time.time()\n",
    "    output_gpu = generator_gpu(prompt_cot, max_new_tokens=100)[0][\"generated_text\"]\n",
    "    end_gpu = time.time()\n",
    "\n",
    "    print(\"🚀 GPU Output:\")\n",
    "    print(output_gpu)\n",
    "    print(f\"⏱ GPU Inference Time: {end_gpu - start_gpu:.2f} seconds\")\n",
    "else:\n",
    "    print(\"🚫 No GPU available.\")\n"
   ]
  },
  {
   "cell_type": "code",
   "execution_count": null,
   "id": "4be367aa-7476-4ec2-b67e-dd20efd9a2de",
   "metadata": {},
   "outputs": [],
   "source": []
  }
 ],
 "metadata": {
  "kernelspec": {
   "display_name": "Python (god-core)",
   "language": "python",
   "name": "god-core"
  },
  "language_info": {
   "codemirror_mode": {
    "name": "ipython",
    "version": 3
   },
   "file_extension": ".py",
   "mimetype": "text/x-python",
   "name": "python",
   "nbconvert_exporter": "python",
   "pygments_lexer": "ipython3",
   "version": "3.10.9"
  }
 },
 "nbformat": 4,
 "nbformat_minor": 5
}
