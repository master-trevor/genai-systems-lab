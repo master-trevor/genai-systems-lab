{
 "cells": [
  {
   "cell_type": "markdown",
   "id": "8b41aa72",
   "metadata": {},
   "source": [
    "# ⚡ Chain of Thought (CoT) — CPU vs GPU Speed Test\n",
    "\n",
    "This notebook compares model inference time using CPU and GPU for the same CoT-style prompt using `flan-t5-small`.\n",
    "\n",
    "Make sure you have a CUDA-compatible GPU and PyTorch with GPU support installed."
   ]
  },
  {
   "cell_type": "code",
   "execution_count": null,
   "id": "3d0ff3ad",
   "metadata": {},
   "outputs": [],
   "source": [
    "from transformers import pipeline\n",
    "import torch\n",
    "import time\n",
    "\n",
    "# Check device\n",
    "device = 0 if torch.cuda.is_available() else -1\n",
    "print(f\"CUDA Available: {torch.cuda.is_available()}\")\n",
    "print(f\"Using device: {'GPU' if device == 0 else 'CPU'}\")\n",
    "\n",
    "# Load model\n",
    "generator = pipeline(\"text2text-generation\", model=\"google/flan-t5-small\", device=device)\n"
   ]
  },
  {
   "cell_type": "markdown",
   "id": "1b3e541f",
   "metadata": {},
   "source": [
    "## 🧪 CoT Prompt Test\n",
    "We'll test inference time with the same prompt on both CPU and GPU."
   ]
  },
  {
   "cell_type": "code",
   "execution_count": null,
   "id": "23c88a18",
   "metadata": {},
   "outputs": [],
   "source": [
    "prompt_cot = \"\"\"If you have 5 cars and each car has 4 wheels, how many wheels total?\n",
    "\n",
    "Let's think step by step.\"\"\"\n"
   ]
  },
  {
   "cell_type": "code",
   "execution_count": null,
   "id": "f5f3ac60",
   "metadata": {},
   "outputs": [],
   "source": [
    "# Run on CPU\n",
    "generator_cpu = pipeline(\"text2text-generation\", model=\"google/flan-t5-small\", device=-1)\n",
    "\n",
    "start_cpu = time.time()\n",
    "output_cpu = generator_cpu(prompt_cot, max_new_tokens=100)[0][\"generated_text\"]\n",
    "end_cpu = time.time()\n",
    "\n",
    "print(\"🧠 CPU Output:\")\n",
    "print(output_cpu)\n",
    "print(f\"⏱ CPU Inference Time: {end_cpu - start_cpu:.2f} seconds\")\n"
   ]
  },
  {
   "cell_type": "code",
   "execution_count": null,
   "id": "1486c7ea",
   "metadata": {},
   "outputs": [],
   "source": [
    "# Run on GPU (if available)\n",
    "if torch.cuda.is_available():\n",
    "    generator_gpu = pipeline(\"text2text-generation\", model=\"google/flan-t5-small\", device=0)\n",
    "\n",
    "    start_gpu = time.time()\n",
    "    output_gpu = generator_gpu(prompt_cot, max_new_tokens=100)[0][\"generated_text\"]\n",
    "    end_gpu = time.time()\n",
    "\n",
    "    print(\"🚀 GPU Output:\")\n",
    "    print(output_gpu)\n",
    "    print(f\"⏱ GPU Inference Time: {end_gpu - start_gpu:.2f} seconds\")\n",
    "else:\n",
    "    print(\"🚫 No GPU available.\")\n"
   ]
  }
 ],
 "metadata": {},
 "nbformat": 4,
 "nbformat_minor": 5
}