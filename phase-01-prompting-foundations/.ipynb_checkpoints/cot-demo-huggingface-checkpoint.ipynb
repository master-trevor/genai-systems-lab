{
 "cells": [
  {
   "cell_type": "markdown",
   "id": "e96e630e",
   "metadata": {},
   "source": [
    "# 🧩 Chain of Thought (CoT) Demo — Free Version\n",
    "\n",
    "This version uses an open-source Hugging Face model for reasoning tasks. No API key or OpenAI account required."
   ]
  },
  {
   "cell_type": "code",
   "execution_count": null,
   "id": "e3a02c8a",
   "metadata": {},
   "outputs": [],
   "source": [
    "from transformers import pipeline\n",
    "\n",
    "# Load an open-source instruction-tuned model\n",
    "generator = pipeline(\"text-generation\", model=\"mistralai/Mistral-7B-Instruct\", max_new_tokens=256)\n"
   ]
  },
  {
   "cell_type": "markdown",
   "id": "636829a5",
   "metadata": {},
   "source": [
    "## 🔍 Task Example: Logic Puzzle\n",
    "We’ll ask the model a basic reasoning problem with and without CoT-style prompting."
   ]
  },
  {
   "cell_type": "code",
   "execution_count": null,
   "id": "82e6cef0",
   "metadata": {},
   "outputs": [],
   "source": [
    "# Prompt without CoT\n",
    "prompt_plain = \"A bat and a ball cost $1.10. The bat costs $1 more than the ball. How much does the ball cost?\"\n",
    "print(\"❌ Without CoT:\")\n",
    "print(generator(prompt_plain)[0]['generated_text'])\n"
   ]
  },
  {
   "cell_type": "code",
   "execution_count": null,
   "id": "03a03b57",
   "metadata": {},
   "outputs": [],
   "source": [
    "# Prompt with CoT\n",
    "prompt_cot = \"\"\"A bat and a ball cost $1.10. The bat costs $1 more than the ball. How much does the ball cost?\n",
    "\n",
    "Let's think step by step.\"\"\"\n",
    "print(\"✅ With CoT:\")\n",
    "print(generator(prompt_cot)[0]['generated_text'])\n"
   ]
  },
  {
   "cell_type": "markdown",
   "id": "114a8d22",
   "metadata": {},
   "source": [
    "## 🧠 Try Your Own Prompt\n",
    "Use this cell to experiment with your own CoT examples."
   ]
  },
  {
   "cell_type": "code",
   "execution_count": null,
   "id": "6e013e18",
   "metadata": {},
   "outputs": [],
   "source": [
    "custom_prompt = \"\"\"Your custom reasoning question here.\n",
    "\n",
    "Let's think step by step.\"\"\"\n",
    "print(generator(custom_prompt)[0]['generated_text'])\n"
   ]
  }
 ],
 "metadata": {},
 "nbformat": 4,
 "nbformat_minor": 5
}